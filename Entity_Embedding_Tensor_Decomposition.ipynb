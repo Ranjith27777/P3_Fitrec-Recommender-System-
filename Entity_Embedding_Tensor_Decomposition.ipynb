{
  "cells": [
    {
      "cell_type": "markdown",
      "metadata": {
        "id": "cKpUJCfSfoKY"
      },
      "source": [
        "# 1. Load Dependencies"
      ]
    },
    {
      "cell_type": "code",
      "execution_count": 1,
      "metadata": {
        "colab": {
          "base_uri": "https://localhost:8080/"
        },
        "id": "M2MIZsjusE1k",
        "outputId": "a03c7fee-b5cf-47c2-be8d-064a9f81044d",
        "vscode": {
          "languageId": "python"
        }
      },
      "outputs": [
        {
          "name": "stdout",
          "output_type": "stream",
          "text": [
            "Drive already mounted at /content/drive; to attempt to forcibly remount, call drive.mount(\"/content/drive\", force_remount=True).\n",
            "Requirement already satisfied: scikit-tensor-py3 in /usr/local/lib/python3.6/dist-packages (0.4.1)\n",
            "Requirement already satisfied: numpy==1.16.* in /usr/local/lib/python3.6/dist-packages (from scikit-tensor-py3) (1.16.6)\n",
            "Requirement already satisfied: scipy==1.3.* in /usr/local/lib/python3.6/dist-packages (from scikit-tensor-py3) (1.3.3)\n"
          ]
        }
      ],
      "source": [
        "import pandas as pd\n",
        "import numpy as np\n",
        "import time\n",
        "import datetime\n",
        "from sys import getsizeof\n",
        "import ast\n",
        "import os\n",
        "import joblib\n",
        "\n",
        "!pip install -q -U torch watermark\n",
        "%reload_ext watermark\n",
        "\n",
        "!pip install scikit-tensor-py3\n",
        "from sktensor import dtensor, cp_als\n",
        "\n",
        "from sklearn.preprocessing import MinMaxScaler\n",
        "from sklearn.manifold import TSNE\n",
        "\n",
        "import matplotlib.pyplot as plt\n",
        "import seaborn as sns\n",
        "\n",
        "sns.set_style('whitegrid')\n",
        "%matplotlib inline"
      ]
    },
    {
      "cell_type": "code",
      "execution_count": 2,
      "metadata": {
        "colab": {
          "base_uri": "https://localhost:8080/"
        },
        "id": "4sufdgG8mRTy",
        "outputId": "800c68e2-00d9-4710-ccb7-6faa3051875e",
        "vscode": {
          "languageId": "python"
        }
      },
      "outputs": [
        {
          "name": "stdout",
          "output_type": "stream",
          "text": [
            "CPython 3.6.9\n",
            "IPython 5.5.0\n",
            "\n",
            "pandas 1.1.4\n",
            "numpy 1.16.6\n",
            "sklearn 0.0\n",
            "matplotlib 3.2.2\n",
            "seaborn 0.11.0\n",
            "sktensor 0.4.1\n"
          ]
        }
      ],
      "source": [
        "%watermark -v -p pandas,numpy,sklearn,matplotlib,seaborn,sktensor"
      ]
    },
    {
      "cell_type": "markdown",
      "metadata": {
        "id": "SrxDs0zCf0DT"
      },
      "source": [
        "# 2. Helper Functions"
      ]
    },
    {
      "cell_type": "code",
      "execution_count": 3,
      "metadata": {
        "id": "emP-xfYDsLkC",
        "vscode": {
          "languageId": "python"
        }
      },
      "outputs": [],
      "source": [
        "def format_time(elapsed):\n",
        "    '''\n",
        "    Takes a time in seconds and returns a string hh:mm:ss\n",
        "    '''\n",
        "    # Round to the nearest second.\n",
        "    elapsed_rounded = int(round((elapsed)))\n",
        "\n",
        "    # Format as hh:mm:ss\n",
        "    return str(datetime.timedelta(seconds=elapsed_rounded))\n",
        "\n",
        "\n",
        "def show_memory(unit='MB', threshold='MB'):\n",
        "    '''check memory usage\n",
        "\n",
        "    :param unit: memory unit, `B`,`KB`,`MB`,`GB`\n",
        "    :param threshold: only show memory usage greater than the threshold\n",
        "    '''\n",
        "\n",
        "    scale = {'B': 1, 'KB': 1024, 'MB': 1048576, 'GB': 1073741824}\n",
        "    for i in list(globals().keys()):\n",
        "        memory = eval('getsizeof({})'.format(i))\n",
        "        if memory >= scale[threshold]:\n",
        "            print(i, str(memory//scale[unit]) + ' ' + unit)"
      ]
    },
    {
      "cell_type": "markdown",
      "metadata": {
        "id": "bjVLdsmif5JB"
      },
      "source": [
        "# 3. Load Data"
      ]
    },
    {
      "cell_type": "code",
      "execution_count": 5,
      "metadata": {
        "colab": {
          "base_uri": "https://localhost:8080/",
          "height": 198
        },
        "id": "1v2NXWOCw31k",
        "outputId": "8e074125-3dca-4624-c67d-75a2b465b553",
        "vscode": {
          "languageId": "python"
        }
      },
      "outputs": [
        {
          "data": {
            "text/html": [
              "<div>\n",
              "<style scoped>\n",
              "    .dataframe tbody tr th:only-of-type {\n",
              "        vertical-align: middle;\n",
              "    }\n",
              "\n",
              "    .dataframe tbody tr th {\n",
              "        vertical-align: top;\n",
              "    }\n",
              "\n",
              "    .dataframe thead th {\n",
              "        text-align: right;\n",
              "    }\n",
              "</style>\n",
              "<table border=\"1\" class=\"dataframe\">\n",
              "  <thead>\n",
              "    <tr style=\"text-align: right;\">\n",
              "      <th></th>\n",
              "      <th>id</th>\n",
              "      <th>userId</th>\n",
              "      <th>gender</th>\n",
              "      <th>sport</th>\n",
              "      <th>duration</th>\n",
              "      <th>calories</th>\n",
              "      <th>distance</th>\n",
              "      <th>avg_heart_rate</th>\n",
              "      <th>longitude</th>\n",
              "      <th>latitude</th>\n",
              "      <th>altitude</th>\n",
              "      <th>timestamp</th>\n",
              "      <th>heart_rate</th>\n",
              "      <th>speed</th>\n",
              "      <th>url</th>\n",
              "      <th>derived_distance</th>\n",
              "      <th>derived_speed</th>\n",
              "      <th>time_elapsed</th>\n",
              "      <th>validate</th>\n",
              "      <th>avg_alti</th>\n",
              "      <th>change_alti</th>\n",
              "      <th>max_alti</th>\n",
              "      <th>min_alti</th>\n",
              "      <th>diff_alti</th>\n",
              "      <th>avg_speed</th>\n",
              "      <th>Cluster</th>\n",
              "      <th>Route</th>\n",
              "      <th>Route_id</th>\n",
              "    </tr>\n",
              "  </thead>\n",
              "  <tbody>\n",
              "    <tr>\n",
              "      <th>0</th>\n",
              "      <td>611012078</td>\n",
              "      <td>2568526</td>\n",
              "      <td>male</td>\n",
              "      <td>run</td>\n",
              "      <td>3158</td>\n",
              "      <td>830.588</td>\n",
              "      <td>10.02</td>\n",
              "      <td>154.914</td>\n",
              "      <td>[7.099486151710153, 7.0994688011705875, 7.0993...</td>\n",
              "      <td>[43.68301374837756, 43.683006623759866, 43.682...</td>\n",
              "      <td>[137.8, 137.8, 138.2, 138.8, 138.8, 138.6, 139...</td>\n",
              "      <td>[1443653973, 1443653974, 1443653978, 144365398...</td>\n",
              "      <td>[140, 140, 141, 149, 149, 150, 153, 157, 160, ...</td>\n",
              "      <td>NaN</td>\n",
              "      <td>https://www.endomondo.com/users/2568526/workou...</td>\n",
              "      <td>[0.0016049429213742246, 0.01260242289257531, 0...</td>\n",
              "      <td>[5.777794516947209, 10.005378447215753, 10.428...</td>\n",
              "      <td>[1, 4, 5, 1, 5, 6, 11, 4, 6, 7, 8, 7, 7, 9, 5,...</td>\n",
              "      <td>True</td>\n",
              "      <td>87.8552</td>\n",
              "      <td>756.8</td>\n",
              "      <td>139.4</td>\n",
              "      <td>76.0</td>\n",
              "      <td>63.4</td>\n",
              "      <td>11.574343</td>\n",
              "      <td>1</td>\n",
              "      <td>('run', 1)</td>\n",
              "      <td>9</td>\n",
              "    </tr>\n",
              "  </tbody>\n",
              "</table>\n",
              "</div>"
            ],
            "text/plain": [
              "          id   userId gender sport  ...  avg_speed  Cluster       Route  Route_id\n",
              "0  611012078  2568526   male   run  ...  11.574343        1  ('run', 1)         9\n",
              "\n",
              "[1 rows x 28 columns]"
            ]
          },
          "execution_count": 5,
          "metadata": {
            "tags": []
          },
          "output_type": "execute_result"
        }
      ],
      "source": [
        "# Read data\n",
        "\n",
        "file_path_train = '/content/drive/My Drive/Colab Notebooks/DATA5703/Data/Dataset/TrainData_1021.csv'\n",
        "file_path_test = '/content/drive/My Drive/Colab Notebooks/DATA5703/Data/Dataset/TestData_1021.csv'\n",
        "\n",
        "train_df = pd.read_csv(file_path_train)\n",
        "test_df = pd.read_csv(file_path_test)\n",
        "\n",
        "data_df = pd.concat([train_df, test_df], ignore_index=True)\n",
        "\n",
        "data_df.head(1)"
      ]
    },
    {
      "cell_type": "code",
      "execution_count": 6,
      "metadata": {
        "colab": {
          "base_uri": "https://localhost:8080/"
        },
        "id": "wYoenfW9zSKn",
        "outputId": "e96019d4-f2c4-41d3-99df-1a7273f2f547",
        "vscode": {
          "languageId": "python"
        }
      },
      "outputs": [
        {
          "name": "stdout",
          "output_type": "stream",
          "text": [
            "(62831, 28)\n",
            "train_df 2492 MB\n",
            "test_df 623 MB\n",
            "data_df 3116 MB\n"
          ]
        }
      ],
      "source": [
        "print(data_df.shape)\n",
        "show_memory()"
      ]
    },
    {
      "cell_type": "code",
      "execution_count": 7,
      "metadata": {
        "colab": {
          "base_uri": "https://localhost:8080/",
          "height": 321
        },
        "id": "1BWcpE3DytMN",
        "outputId": "7c570360-1a92-496b-bd39-3267c36b25aa",
        "vscode": {
          "languageId": "python"
        }
      },
      "outputs": [
        {
          "name": "stdout",
          "output_type": "stream",
          "text": [
            "0:00:40\n"
          ]
        },
        {
          "data": {
            "text/html": [
              "<div>\n",
              "<style scoped>\n",
              "    .dataframe tbody tr th:only-of-type {\n",
              "        vertical-align: middle;\n",
              "    }\n",
              "\n",
              "    .dataframe tbody tr th {\n",
              "        vertical-align: top;\n",
              "    }\n",
              "\n",
              "    .dataframe thead th {\n",
              "        text-align: right;\n",
              "    }\n",
              "</style>\n",
              "<table border=\"1\" class=\"dataframe\">\n",
              "  <thead>\n",
              "    <tr style=\"text-align: right;\">\n",
              "      <th></th>\n",
              "      <th>id</th>\n",
              "      <th>userId</th>\n",
              "      <th>duration</th>\n",
              "      <th>calories</th>\n",
              "      <th>distance</th>\n",
              "      <th>avg_heart_rate</th>\n",
              "      <th>avg_alti</th>\n",
              "      <th>change_alti</th>\n",
              "      <th>max_alti</th>\n",
              "      <th>min_alti</th>\n",
              "      <th>diff_alti</th>\n",
              "      <th>avg_speed</th>\n",
              "      <th>Cluster</th>\n",
              "      <th>Route_id</th>\n",
              "    </tr>\n",
              "  </thead>\n",
              "  <tbody>\n",
              "    <tr>\n",
              "      <th>count</th>\n",
              "      <td>6.283100e+04</td>\n",
              "      <td>6.283100e+04</td>\n",
              "      <td>62831.000000</td>\n",
              "      <td>62831.000000</td>\n",
              "      <td>62831.000000</td>\n",
              "      <td>62831.000000</td>\n",
              "      <td>62831.000000</td>\n",
              "      <td>62831.000000</td>\n",
              "      <td>62831.000000</td>\n",
              "      <td>62831.000000</td>\n",
              "      <td>62831.000000</td>\n",
              "      <td>62831.000000</td>\n",
              "      <td>62831.000000</td>\n",
              "      <td>62831.000000</td>\n",
              "    </tr>\n",
              "    <tr>\n",
              "      <th>mean</th>\n",
              "      <td>3.679860e+08</td>\n",
              "      <td>4.437249e+06</td>\n",
              "      <td>4237.423151</td>\n",
              "      <td>838.722699</td>\n",
              "      <td>20.815504</td>\n",
              "      <td>142.371731</td>\n",
              "      <td>153.780615</td>\n",
              "      <td>397.032384</td>\n",
              "      <td>189.831314</td>\n",
              "      <td>124.942693</td>\n",
              "      <td>64.888621</td>\n",
              "      <td>17.216757</td>\n",
              "      <td>1.731438</td>\n",
              "      <td>6.528768</td>\n",
              "    </tr>\n",
              "    <tr>\n",
              "      <th>std</th>\n",
              "      <td>1.556004e+08</td>\n",
              "      <td>3.856116e+06</td>\n",
              "      <td>2227.567507</td>\n",
              "      <td>514.669974</td>\n",
              "      <td>16.925158</td>\n",
              "      <td>16.141400</td>\n",
              "      <td>254.752939</td>\n",
              "      <td>351.424533</td>\n",
              "      <td>271.461019</td>\n",
              "      <td>245.407699</td>\n",
              "      <td>76.921453</td>\n",
              "      <td>7.959321</td>\n",
              "      <td>1.050199</td>\n",
              "      <td>4.184580</td>\n",
              "    </tr>\n",
              "    <tr>\n",
              "      <th>min</th>\n",
              "      <td>1.346435e+06</td>\n",
              "      <td>6.900000e+01</td>\n",
              "      <td>499.000000</td>\n",
              "      <td>100.000000</td>\n",
              "      <td>1.110000</td>\n",
              "      <td>53.778000</td>\n",
              "      <td>-284.491200</td>\n",
              "      <td>0.200000</td>\n",
              "      <td>-261.000000</td>\n",
              "      <td>-500.000000</td>\n",
              "      <td>0.200000</td>\n",
              "      <td>5.010181</td>\n",
              "      <td>0.000000</td>\n",
              "      <td>0.000000</td>\n",
              "    </tr>\n",
              "    <tr>\n",
              "      <th>25%</th>\n",
              "      <td>2.640502e+08</td>\n",
              "      <td>1.367691e+06</td>\n",
              "      <td>2680.000000</td>\n",
              "      <td>503.000000</td>\n",
              "      <td>9.950000</td>\n",
              "      <td>132.332000</td>\n",
              "      <td>18.558000</td>\n",
              "      <td>166.600000</td>\n",
              "      <td>40.800000</td>\n",
              "      <td>1.000000</td>\n",
              "      <td>24.000000</td>\n",
              "      <td>10.794519</td>\n",
              "      <td>1.000000</td>\n",
              "      <td>2.000000</td>\n",
              "    </tr>\n",
              "    <tr>\n",
              "      <th>50%</th>\n",
              "      <td>3.612350e+08</td>\n",
              "      <td>3.301823e+06</td>\n",
              "      <td>3751.000000</td>\n",
              "      <td>733.000000</td>\n",
              "      <td>14.460000</td>\n",
              "      <td>143.044000</td>\n",
              "      <td>57.592800</td>\n",
              "      <td>285.000000</td>\n",
              "      <td>89.000000</td>\n",
              "      <td>32.800000</td>\n",
              "      <td>43.600000</td>\n",
              "      <td>12.894028</td>\n",
              "      <td>2.000000</td>\n",
              "      <td>9.000000</td>\n",
              "    </tr>\n",
              "    <tr>\n",
              "      <th>75%</th>\n",
              "      <td>4.836819e+08</td>\n",
              "      <td>6.692748e+06</td>\n",
              "      <td>5292.000000</td>\n",
              "      <td>1026.000000</td>\n",
              "      <td>26.450000</td>\n",
              "      <td>153.184000</td>\n",
              "      <td>178.990000</td>\n",
              "      <td>509.800000</td>\n",
              "      <td>221.200000</td>\n",
              "      <td>149.050000</td>\n",
              "      <td>74.400000</td>\n",
              "      <td>24.923234</td>\n",
              "      <td>2.000000</td>\n",
              "      <td>10.000000</td>\n",
              "    </tr>\n",
              "    <tr>\n",
              "      <th>max</th>\n",
              "      <td>6.675965e+08</td>\n",
              "      <td>1.548142e+07</td>\n",
              "      <td>17848.000000</td>\n",
              "      <td>5569.000000</td>\n",
              "      <td>131.100000</td>\n",
              "      <td>210.194000</td>\n",
              "      <td>1996.081600</td>\n",
              "      <td>2982.000000</td>\n",
              "      <td>2405.200000</td>\n",
              "      <td>1987.400000</td>\n",
              "      <td>999.200000</td>\n",
              "      <td>34.989718</td>\n",
              "      <td>5.000000</td>\n",
              "      <td>13.000000</td>\n",
              "    </tr>\n",
              "  </tbody>\n",
              "</table>\n",
              "</div>"
            ],
            "text/plain": [
              "                 id        userId  ...       Cluster      Route_id\n",
              "count  6.283100e+04  6.283100e+04  ...  62831.000000  62831.000000\n",
              "mean   3.679860e+08  4.437249e+06  ...      1.731438      6.528768\n",
              "std    1.556004e+08  3.856116e+06  ...      1.050199      4.184580\n",
              "min    1.346435e+06  6.900000e+01  ...      0.000000      0.000000\n",
              "25%    2.640502e+08  1.367691e+06  ...      1.000000      2.000000\n",
              "50%    3.612350e+08  3.301823e+06  ...      2.000000      9.000000\n",
              "75%    4.836819e+08  6.692748e+06  ...      2.000000     10.000000\n",
              "max    6.675965e+08  1.548142e+07  ...      5.000000     13.000000\n",
              "\n",
              "[8 rows x 14 columns]"
            ]
          },
          "execution_count": 7,
          "metadata": {
            "tags": []
          },
          "output_type": "execute_result"
        }
      ],
      "source": [
        "# sequence data was stored in string formatted list\n",
        "# convert sequence data to array\n",
        "\n",
        "def str_to_arr(str_ls):\n",
        "    return np.fromstring(str_ls[1:-1], dtype=np.float, sep=',')\n",
        "\n",
        "\n",
        "start = time.time()\n",
        "\n",
        "data_df['heart_rate'] = data_df.apply(\n",
        "    lambda x: str_to_arr(x['heart_rate']), axis=1)\n",
        "data_df['altitude'] = data_df.apply(\n",
        "    lambda x: str_to_arr(x['altitude']), axis=1)\n",
        "data_df['derived_speed'] = data_df.apply(\n",
        "    lambda x: str_to_arr(x['derived_speed']), axis=1)\n",
        "data_df['derived_distance'] = data_df.apply(\n",
        "    lambda x: str_to_arr(x['derived_distance']), axis=1)\n",
        "data_df['timestamp'] = data_df.apply(\n",
        "    lambda x: str_to_arr(x['timestamp']), axis=1)\n",
        "\n",
        "elapsed = format_time(time.time() - start)\n",
        "print(elapsed)\n",
        "\n",
        "data_df.describe()"
      ]
    },
    {
      "cell_type": "markdown",
      "metadata": {
        "id": "soJV2ms-KSW5"
      },
      "source": [
        "# 4. Min-Max scaling"
      ]
    },
    {
      "cell_type": "code",
      "execution_count": 10,
      "metadata": {
        "colab": {
          "base_uri": "https://localhost:8080/"
        },
        "id": "bg4tMYsdKGt2",
        "outputId": "ab581701-4bb2-494e-bc69-78cd3a0792f5",
        "vscode": {
          "languageId": "python"
        }
      },
      "outputs": [
        {
          "data": {
            "text/plain": [
              "{'altitude': MinMaxScaler(copy=True, feature_range=(0, 1)),\n",
              " 'calories': MinMaxScaler(copy=True, feature_range=(0, 1)),\n",
              " 'derived_distance': MinMaxScaler(copy=True, feature_range=(0, 1)),\n",
              " 'distance': MinMaxScaler(copy=True, feature_range=(0, 1)),\n",
              " 'duration': MinMaxScaler(copy=True, feature_range=(0, 1)),\n",
              " 'heart_rate': MinMaxScaler(copy=True, feature_range=(0, 1)),\n",
              " 'speed': MinMaxScaler(copy=True, feature_range=(0, 1)),\n",
              " 'time_elapsed': MinMaxScaler(copy=True, feature_range=(0, 1))}"
            ]
          },
          "execution_count": 10,
          "metadata": {
            "tags": []
          },
          "output_type": "execute_result"
        }
      ],
      "source": [
        "# Load Min-max scaler models\n",
        "\n",
        "scaler_dic = dict()\n",
        "features = ['calories', 'distance', 'duration', 'heart_rate',\n",
        "            'time_elapsed', 'altitude', 'derived_distance', 'speed']\n",
        "\n",
        "dir = '/content/drive/My Drive/Colab Notebooks/DATA5703/scaler_model/'\n",
        "\n",
        "for feature in features:\n",
        "    path = os.path.join(dir, 'scaler_'+feature+'_2.m')\n",
        "    scaler_dic[feature] = joblib.load(path)\n",
        "\n",
        "scaler_dic"
      ]
    },
    {
      "cell_type": "code",
      "execution_count": 11,
      "metadata": {
        "colab": {
          "base_uri": "https://localhost:8080/",
          "height": 137
        },
        "id": "eSzTrDq0KGze",
        "outputId": "ec78e2a5-f5a2-4054-ca24-fcbe8a349eb8",
        "vscode": {
          "languageId": "python"
        }
      },
      "outputs": [
        {
          "data": {
            "text/html": [
              "<div>\n",
              "<style scoped>\n",
              "    .dataframe tbody tr th:only-of-type {\n",
              "        vertical-align: middle;\n",
              "    }\n",
              "\n",
              "    .dataframe tbody tr th {\n",
              "        vertical-align: top;\n",
              "    }\n",
              "\n",
              "    .dataframe thead th {\n",
              "        text-align: right;\n",
              "    }\n",
              "</style>\n",
              "<table border=\"1\" class=\"dataframe\">\n",
              "  <thead>\n",
              "    <tr style=\"text-align: right;\">\n",
              "      <th></th>\n",
              "      <th>altitude</th>\n",
              "      <th>heart_rate</th>\n",
              "      <th>derived_distance</th>\n",
              "      <th>speed</th>\n",
              "    </tr>\n",
              "  </thead>\n",
              "  <tbody>\n",
              "    <tr>\n",
              "      <th>0</th>\n",
              "      <td>[137.8, 137.8, 138.2, 138.8, 138.8, 138.6, 139...</td>\n",
              "      <td>[140.0, 140.0, 141.0, 149.0, 149.0, 150.0, 153...</td>\n",
              "      <td>[0.0016049429213742246, 0.01260242289257531, 0...</td>\n",
              "      <td>[5.777794516947209, 10.005378447215753, 10.428...</td>\n",
              "    </tr>\n",
              "  </tbody>\n",
              "</table>\n",
              "</div>"
            ],
            "text/plain": [
              "                                            altitude  ...                                              speed\n",
              "0  [137.8, 137.8, 138.2, 138.8, 138.8, 138.6, 139...  ...  [5.777794516947209, 10.005378447215753, 10.428...\n",
              "\n",
              "[1 rows x 4 columns]"
            ]
          },
          "metadata": {
            "tags": []
          },
          "output_type": "display_data"
        },
        {
          "data": {
            "text/html": [
              "<div>\n",
              "<style scoped>\n",
              "    .dataframe tbody tr th:only-of-type {\n",
              "        vertical-align: middle;\n",
              "    }\n",
              "\n",
              "    .dataframe tbody tr th {\n",
              "        vertical-align: top;\n",
              "    }\n",
              "\n",
              "    .dataframe thead th {\n",
              "        text-align: right;\n",
              "    }\n",
              "</style>\n",
              "<table border=\"1\" class=\"dataframe\">\n",
              "  <thead>\n",
              "    <tr style=\"text-align: right;\">\n",
              "      <th></th>\n",
              "      <th>userId</th>\n",
              "      <th>gender</th>\n",
              "      <th>sport</th>\n",
              "      <th>duration</th>\n",
              "      <th>calories</th>\n",
              "      <th>distance</th>\n",
              "      <th>Route_id</th>\n",
              "    </tr>\n",
              "  </thead>\n",
              "  <tbody>\n",
              "    <tr>\n",
              "      <th>0</th>\n",
              "      <td>2568526</td>\n",
              "      <td>male</td>\n",
              "      <td>run</td>\n",
              "      <td>3158</td>\n",
              "      <td>830.588</td>\n",
              "      <td>10.02</td>\n",
              "      <td>9</td>\n",
              "    </tr>\n",
              "  </tbody>\n",
              "</table>\n",
              "</div>"
            ],
            "text/plain": [
              "    userId gender sport  duration  calories  distance  Route_id\n",
              "0  2568526   male   run      3158   830.588     10.02         9"
            ]
          },
          "metadata": {
            "tags": []
          },
          "output_type": "display_data"
        }
      ],
      "source": [
        "sequence_df = data_df[['altitude', 'heart_rate',\n",
        "                       'derived_distance', 'derived_speed']].copy()\n",
        "sequence_df.rename(columns={'derived_speed': 'speed'}, inplace=True)\n",
        "\n",
        "context_df = data_df[['userId', 'gender', 'sport',\n",
        "                      'duration', 'calories', 'distance', 'Route_id']].copy()\n",
        "\n",
        "display(sequence_df.head(1))\n",
        "display(context_df.head(1))"
      ]
    },
    {
      "cell_type": "code",
      "execution_count": 12,
      "metadata": {
        "colab": {
          "base_uri": "https://localhost:8080/",
          "height": 170
        },
        "id": "RLMYPyoEKG2T",
        "outputId": "4150d56c-9291-44ab-ef9e-a04c784c782b",
        "vscode": {
          "languageId": "python"
        }
      },
      "outputs": [
        {
          "name": "stdout",
          "output_type": "stream",
          "text": [
            "0:00:58\n"
          ]
        },
        {
          "data": {
            "text/html": [
              "<div>\n",
              "<style scoped>\n",
              "    .dataframe tbody tr th:only-of-type {\n",
              "        vertical-align: middle;\n",
              "    }\n",
              "\n",
              "    .dataframe tbody tr th {\n",
              "        vertical-align: top;\n",
              "    }\n",
              "\n",
              "    .dataframe thead th {\n",
              "        text-align: right;\n",
              "    }\n",
              "</style>\n",
              "<table border=\"1\" class=\"dataframe\">\n",
              "  <thead>\n",
              "    <tr style=\"text-align: right;\">\n",
              "      <th></th>\n",
              "      <th>altitude</th>\n",
              "      <th>heart_rate</th>\n",
              "      <th>derived_distance</th>\n",
              "      <th>speed</th>\n",
              "    </tr>\n",
              "  </thead>\n",
              "  <tbody>\n",
              "    <tr>\n",
              "      <th>0</th>\n",
              "      <td>[0.21051532033426185, 0.21051532033426185, 0.2...</td>\n",
              "      <td>[0.5833333333333334, 0.5833333333333334, 0.587...</td>\n",
              "      <td>[0.0008705472935918672, 0.006835760322515244, ...</td>\n",
              "      <td>[0.05777888189652973, 0.10005540659781222, 0.1...</td>\n",
              "    </tr>\n",
              "  </tbody>\n",
              "</table>\n",
              "</div>"
            ],
            "text/plain": [
              "                                            altitude  ...                                              speed\n",
              "0  [0.21051532033426185, 0.21051532033426185, 0.2...  ...  [0.05777888189652973, 0.10005540659781222, 0.1...\n",
              "\n",
              "[1 rows x 4 columns]"
            ]
          },
          "metadata": {
            "tags": []
          },
          "output_type": "display_data"
        },
        {
          "data": {
            "text/html": [
              "<div>\n",
              "<style scoped>\n",
              "    .dataframe tbody tr th:only-of-type {\n",
              "        vertical-align: middle;\n",
              "    }\n",
              "\n",
              "    .dataframe tbody tr th {\n",
              "        vertical-align: top;\n",
              "    }\n",
              "\n",
              "    .dataframe thead th {\n",
              "        text-align: right;\n",
              "    }\n",
              "</style>\n",
              "<table border=\"1\" class=\"dataframe\">\n",
              "  <thead>\n",
              "    <tr style=\"text-align: right;\">\n",
              "      <th></th>\n",
              "      <th>userId</th>\n",
              "      <th>gender</th>\n",
              "      <th>sport</th>\n",
              "      <th>duration</th>\n",
              "      <th>calories</th>\n",
              "      <th>distance</th>\n",
              "      <th>Route_id</th>\n",
              "    </tr>\n",
              "  </thead>\n",
              "  <tbody>\n",
              "    <tr>\n",
              "      <th>0</th>\n",
              "      <td>2568526</td>\n",
              "      <td>male</td>\n",
              "      <td>run</td>\n",
              "      <td>0.176939</td>\n",
              "      <td>0.149145</td>\n",
              "      <td>0.07643</td>\n",
              "      <td>9</td>\n",
              "    </tr>\n",
              "  </tbody>\n",
              "</table>\n",
              "</div>"
            ],
            "text/plain": [
              "    userId gender sport  duration  calories  distance  Route_id\n",
              "0  2568526   male   run  0.176939  0.149145   0.07643         9"
            ]
          },
          "metadata": {
            "tags": []
          },
          "output_type": "display_data"
        }
      ],
      "source": [
        "# Apply min max scaler for each feature\n",
        "\n",
        "start = time.time()\n",
        "\n",
        "# for features in sequence_df\n",
        "for feature in sequence_df.columns:\n",
        "    # Reshape data using array.reshape(-1, 1) if data has a single feature\n",
        "    sequence_df[feature] = sequence_df.apply(lambda x: np.concatenate(\n",
        "        scaler_dic[feature].transform(x[feature].reshape(-1, 1)), axis=0)[0:499], axis=1)\n",
        "\n",
        "# for features in context_df\n",
        "for feature in context_df[context_df.columns.difference(['userId', \n",
        "                                                         'gender', \n",
        "                                                         'sport', \n",
        "                                                         'Route_id'])].columns:\n",
        "    # Reshape data using array.reshape(-1, 1) if data has a single feature\n",
        "    context_df[feature] = scaler_dic[feature].transform(\n",
        "        context_df[feature].to_numpy().reshape(-1, 1))\n",
        "\n",
        "\n",
        "elapsed = format_time(time.time() - start)\n",
        "print(elapsed)\n",
        "\n",
        "display(sequence_df.head(1))\n",
        "display(context_df.head(1))"
      ]
    },
    {
      "cell_type": "code",
      "execution_count": 13,
      "metadata": {
        "colab": {
          "base_uri": "https://localhost:8080/",
          "height": 110
        },
        "id": "iTHrCYWGKG5L",
        "outputId": "4e0822bf-1011-4a62-f8b2-8df6817d6bf1",
        "vscode": {
          "languageId": "python"
        }
      },
      "outputs": [
        {
          "data": {
            "text/html": [
              "<div>\n",
              "<style scoped>\n",
              "    .dataframe tbody tr th:only-of-type {\n",
              "        vertical-align: middle;\n",
              "    }\n",
              "\n",
              "    .dataframe tbody tr th {\n",
              "        vertical-align: top;\n",
              "    }\n",
              "\n",
              "    .dataframe thead th {\n",
              "        text-align: right;\n",
              "    }\n",
              "</style>\n",
              "<table border=\"1\" class=\"dataframe\">\n",
              "  <thead>\n",
              "    <tr style=\"text-align: right;\">\n",
              "      <th></th>\n",
              "      <th>userId</th>\n",
              "      <th>gender</th>\n",
              "      <th>sport</th>\n",
              "      <th>duration</th>\n",
              "      <th>calories</th>\n",
              "      <th>distance</th>\n",
              "      <th>Route_id</th>\n",
              "      <th>altitude</th>\n",
              "      <th>heart_rate</th>\n",
              "      <th>derived_distance</th>\n",
              "      <th>speed</th>\n",
              "      <th>timestamp</th>\n",
              "    </tr>\n",
              "  </thead>\n",
              "  <tbody>\n",
              "    <tr>\n",
              "      <th>0</th>\n",
              "      <td>2568526</td>\n",
              "      <td>male</td>\n",
              "      <td>run</td>\n",
              "      <td>0.176939</td>\n",
              "      <td>0.149145</td>\n",
              "      <td>0.07643</td>\n",
              "      <td>9</td>\n",
              "      <td>[0.21051532033426185, 0.21051532033426185, 0.2...</td>\n",
              "      <td>[0.5833333333333334, 0.5833333333333334, 0.587...</td>\n",
              "      <td>[0.0008705472935918672, 0.006835760322515244, ...</td>\n",
              "      <td>[0.05777888189652973, 0.10005540659781222, 0.1...</td>\n",
              "      <td>[1443653973.0, 1443653974.0, 1443653978.0, 144...</td>\n",
              "    </tr>\n",
              "  </tbody>\n",
              "</table>\n",
              "</div>"
            ],
            "text/plain": [
              "    userId  ...                                          timestamp\n",
              "0  2568526  ...  [1443653973.0, 1443653974.0, 1443653978.0, 144...\n",
              "\n",
              "[1 rows x 12 columns]"
            ]
          },
          "execution_count": 13,
          "metadata": {
            "tags": []
          },
          "output_type": "execute_result"
        }
      ],
      "source": [
        "data_df = pd.concat([context_df, sequence_df, data_df[['timestamp']]], axis=1)\n",
        "\n",
        "data_df.head(1)"
      ]
    },
    {
      "cell_type": "markdown",
      "metadata": {
        "id": "ggN2gyGtgJJM"
      },
      "source": [
        "# 5. Process data to construct User-Workout Route-Context Tensor"
      ]
    },
    {
      "cell_type": "code",
      "execution_count": 14,
      "metadata": {
        "colab": {
          "base_uri": "https://localhost:8080/",
          "height": 110
        },
        "id": "PmrsSQLO4NwM",
        "outputId": "fadcf97e-0c7e-45dc-8fb3-6317db595f53",
        "vscode": {
          "languageId": "python"
        }
      },
      "outputs": [
        {
          "name": "stdout",
          "output_type": "stream",
          "text": [
            "There are 929 users.\n",
            "0:00:02\n"
          ]
        },
        {
          "data": {
            "text/html": [
              "<div>\n",
              "<style scoped>\n",
              "    .dataframe tbody tr th:only-of-type {\n",
              "        vertical-align: middle;\n",
              "    }\n",
              "\n",
              "    .dataframe tbody tr th {\n",
              "        vertical-align: top;\n",
              "    }\n",
              "\n",
              "    .dataframe thead th {\n",
              "        text-align: right;\n",
              "    }\n",
              "</style>\n",
              "<table border=\"1\" class=\"dataframe\">\n",
              "  <thead>\n",
              "    <tr style=\"text-align: right;\">\n",
              "      <th></th>\n",
              "      <th>userId</th>\n",
              "      <th>workout_records</th>\n",
              "      <th>workout_freq</th>\n",
              "    </tr>\n",
              "  </thead>\n",
              "  <tbody>\n",
              "    <tr>\n",
              "      <th>0</th>\n",
              "      <td>2568526</td>\n",
              "      <td>225</td>\n",
              "      <td>0.24086</td>\n",
              "    </tr>\n",
              "  </tbody>\n",
              "</table>\n",
              "</div>"
            ],
            "text/plain": [
              "    userId  workout_records  workout_freq\n",
              "0  2568526              225       0.24086"
            ]
          },
          "execution_count": 14,
          "metadata": {
            "tags": []
          },
          "output_type": "execute_result"
        }
      ],
      "source": [
        "# Construct user profile, which will be used in embedding visualisation\n",
        "\n",
        "# Count workout numbers and workout frequency for each user\n",
        "\n",
        "def get_freq_from_ts(ts_list):\n",
        "\n",
        "    deltas = []\n",
        "\n",
        "    ts_list.sort()\n",
        "    for i, ts in enumerate(ts_list):\n",
        "        if i == 0:\n",
        "            pass\n",
        "        else:\n",
        "            ts_prev = ts_list[i-1]\n",
        "\n",
        "            dt_prev = datetime.datetime.fromtimestamp(ts_prev).date()\n",
        "            dt = datetime.datetime.fromtimestamp(ts).date()\n",
        "\n",
        "            deltas.append(abs(dt-dt_prev).days)\n",
        "    try:\n",
        "        if (len(deltas) == 1) & (sum(deltas) == 0):\n",
        "            return 0\n",
        "        else:\n",
        "            return 1./(sum(deltas)/len(deltas))\n",
        "    except:\n",
        "        print('deltas: ', deltas)\n",
        "        raise\n",
        "\n",
        "start = time.time()\n",
        "\n",
        "userlist = data_df.userId.unique().tolist()\n",
        "print('There are {} users.'.format(len(userlist)))\n",
        "\n",
        "user_profile = []\n",
        "\n",
        "for user in userlist:\n",
        "    time_stamps_list = data_df[data_df.userId == user].timestamp.tolist()\n",
        "    time_stamp_list = [time_stamps[0] for time_stamps in time_stamps_list]\n",
        "    gender = data_df[data_df.userId == user].gender.iloc[0]\n",
        "    records = len(time_stamp_list)\n",
        "    if records > 1:\n",
        "        user_profile.append([user,\n",
        "                             records, \n",
        "                             get_freq_from_ts(time_stamp_list)])\n",
        "    else:\n",
        "        user_profile.append([user, \n",
        "                             1,\n",
        "                             0])\n",
        "\n",
        "user_profile_df = pd.DataFrame(user_profile, columns = ['userId', \n",
        "                                                        'workout_records', \n",
        "                                                        'workout_freq'])\n",
        "\n",
        "elapsed = format_time(time.time() - start)\n",
        "print(elapsed)\n",
        "\n",
        "user_profile_df.head(1)"
      ]
    },
    {
      "cell_type": "code",
      "execution_count": 15,
      "metadata": {
        "colab": {
          "base_uri": "https://localhost:8080/",
          "height": 77
        },
        "id": "uUB3T_QfjcIC",
        "outputId": "3f7fdee6-cd45-4e4f-99f8-b1efa23cbf82",
        "vscode": {
          "languageId": "python"
        }
      },
      "outputs": [
        {
          "data": {
            "text/html": [
              "<div>\n",
              "<style scoped>\n",
              "    .dataframe tbody tr th:only-of-type {\n",
              "        vertical-align: middle;\n",
              "    }\n",
              "\n",
              "    .dataframe tbody tr th {\n",
              "        vertical-align: top;\n",
              "    }\n",
              "\n",
              "    .dataframe thead th {\n",
              "        text-align: right;\n",
              "    }\n",
              "</style>\n",
              "<table border=\"1\" class=\"dataframe\">\n",
              "  <thead>\n",
              "    <tr style=\"text-align: right;\">\n",
              "      <th></th>\n",
              "      <th>userId</th>\n",
              "      <th>avg_calories</th>\n",
              "      <th>avg_speed</th>\n",
              "      <th>avg_distance</th>\n",
              "    </tr>\n",
              "  </thead>\n",
              "  <tbody>\n",
              "    <tr>\n",
              "      <th>0</th>\n",
              "      <td>2568526.0</td>\n",
              "      <td>0.172433</td>\n",
              "      <td>0.160723</td>\n",
              "      <td>0.176215</td>\n",
              "    </tr>\n",
              "  </tbody>\n",
              "</table>\n",
              "</div>"
            ],
            "text/plain": [
              "      userId  avg_calories  avg_speed  avg_distance\n",
              "0  2568526.0      0.172433   0.160723      0.176215"
            ]
          },
          "execution_count": 15,
          "metadata": {
            "tags": []
          },
          "output_type": "execute_result"
        }
      ],
      "source": [
        "# Compute avg_calories, avg_speed, avg_distance for each user\n",
        "\n",
        "user_profile_list = []\n",
        "\n",
        "for user in userlist:\n",
        "\n",
        "    avg_calories = data_df[data_df.userId == user].calories.mean()\n",
        "    avg_distance = data_df[data_df.userId == user].distance.mean()\n",
        "    avg_speed = data_df[data_df.userId == user].apply(\n",
        "        lambda x: x.speed.mean(), axis=1).mean()\n",
        "\n",
        "    user_arr = np.array([user,\n",
        "                         avg_calories,\n",
        "                         avg_speed,\n",
        "                         avg_distance])\n",
        "\n",
        "    user_profile_list.append(user_arr)\n",
        "\n",
        "user_df = pd.DataFrame(user_profile_list, columns=['userId',\n",
        "                                                   'avg_calories',\n",
        "                                                   'avg_speed',\n",
        "                                                   'avg_distance'])\n",
        "user_df.head(1)"
      ]
    },
    {
      "cell_type": "code",
      "execution_count": 16,
      "metadata": {
        "colab": {
          "base_uri": "https://localhost:8080/",
          "height": 77
        },
        "id": "thQn4HUFpQ10",
        "outputId": "c0a80e69-5c78-4de0-d587-5bd8b02ac595",
        "vscode": {
          "languageId": "python"
        }
      },
      "outputs": [
        {
          "data": {
            "text/html": [
              "<div>\n",
              "<style scoped>\n",
              "    .dataframe tbody tr th:only-of-type {\n",
              "        vertical-align: middle;\n",
              "    }\n",
              "\n",
              "    .dataframe tbody tr th {\n",
              "        vertical-align: top;\n",
              "    }\n",
              "\n",
              "    .dataframe thead th {\n",
              "        text-align: right;\n",
              "    }\n",
              "</style>\n",
              "<table border=\"1\" class=\"dataframe\">\n",
              "  <thead>\n",
              "    <tr style=\"text-align: right;\">\n",
              "      <th></th>\n",
              "      <th>userId</th>\n",
              "      <th>workout_records</th>\n",
              "      <th>workout_freq</th>\n",
              "      <th>avg_calories</th>\n",
              "      <th>avg_speed</th>\n",
              "      <th>avg_distance</th>\n",
              "    </tr>\n",
              "  </thead>\n",
              "  <tbody>\n",
              "    <tr>\n",
              "      <th>0</th>\n",
              "      <td>2568526</td>\n",
              "      <td>225</td>\n",
              "      <td>0.24086</td>\n",
              "      <td>0.172433</td>\n",
              "      <td>0.160723</td>\n",
              "      <td>0.176215</td>\n",
              "    </tr>\n",
              "  </tbody>\n",
              "</table>\n",
              "</div>"
            ],
            "text/plain": [
              "    userId  workout_records  ...  avg_speed  avg_distance\n",
              "0  2568526              225  ...   0.160723      0.176215\n",
              "\n",
              "[1 rows x 6 columns]"
            ]
          },
          "execution_count": 16,
          "metadata": {
            "tags": []
          },
          "output_type": "execute_result"
        }
      ],
      "source": [
        "# Add additional features to user_profile_df\n",
        "\n",
        "user_profile_df = user_profile_df.join(\n",
        "    user_df.set_index('userId'), how='left', on='userId')\n",
        "\n",
        "user_profile_df.head(1)"
      ]
    },
    {
      "cell_type": "code",
      "execution_count": 17,
      "metadata": {
        "colab": {
          "base_uri": "https://localhost:8080/",
          "height": 164
        },
        "id": "zfzJrfym4Nzm",
        "outputId": "76a0fcf3-89a5-46e8-a4c1-f667ab6f44ce",
        "vscode": {
          "languageId": "python"
        }
      },
      "outputs": [
        {
          "name": "stdout",
          "output_type": "stream",
          "text": [
            "0:01:11\n"
          ]
        },
        {
          "data": {
            "text/html": [
              "<div>\n",
              "<style scoped>\n",
              "    .dataframe tbody tr th:only-of-type {\n",
              "        vertical-align: middle;\n",
              "    }\n",
              "\n",
              "    .dataframe tbody tr th {\n",
              "        vertical-align: top;\n",
              "    }\n",
              "\n",
              "    .dataframe thead th {\n",
              "        text-align: right;\n",
              "    }\n",
              "</style>\n",
              "<table border=\"1\" class=\"dataframe\">\n",
              "  <thead>\n",
              "    <tr style=\"text-align: right;\">\n",
              "      <th></th>\n",
              "      <th>userId</th>\n",
              "      <th>gender</th>\n",
              "      <th>sport</th>\n",
              "      <th>duration</th>\n",
              "      <th>calories</th>\n",
              "      <th>distance</th>\n",
              "      <th>Route_id</th>\n",
              "      <th>altitude</th>\n",
              "      <th>heart_rate</th>\n",
              "      <th>derived_distance</th>\n",
              "      <th>speed</th>\n",
              "      <th>timestamp</th>\n",
              "      <th>workout_records</th>\n",
              "      <th>workout_freq</th>\n",
              "    </tr>\n",
              "  </thead>\n",
              "  <tbody>\n",
              "    <tr>\n",
              "      <th>0</th>\n",
              "      <td>2568526</td>\n",
              "      <td>male</td>\n",
              "      <td>run</td>\n",
              "      <td>0.176939</td>\n",
              "      <td>0.149145</td>\n",
              "      <td>0.07643</td>\n",
              "      <td>9</td>\n",
              "      <td>[0.21051532033426185, 0.21051532033426185, 0.2...</td>\n",
              "      <td>[0.5833333333333334, 0.5833333333333334, 0.587...</td>\n",
              "      <td>[0.0008705472935918672, 0.006835760322515244, ...</td>\n",
              "      <td>[0.05777888189652973, 0.10005540659781222, 0.1...</td>\n",
              "      <td>[1443653973.0, 1443653974.0, 1443653978.0, 144...</td>\n",
              "      <td>225</td>\n",
              "      <td>0.24086</td>\n",
              "    </tr>\n",
              "  </tbody>\n",
              "</table>\n",
              "</div>"
            ],
            "text/plain": [
              "    userId gender  ... workout_records  workout_freq\n",
              "0  2568526   male  ...             225       0.24086\n",
              "\n",
              "[1 rows x 14 columns]"
            ]
          },
          "execution_count": 17,
          "metadata": {
            "tags": []
          },
          "output_type": "execute_result"
        }
      ],
      "source": [
        "# Add workout numbers and workout frequency to data_df\n",
        "start = time.time()\n",
        "\n",
        "data_df['workout_records'] = data_df.apply(\n",
        "    lambda x: user_profile_df[user_profile_df.userId == x.userId].workout_records.values[0], axis=1)\n",
        "data_df['workout_freq'] = data_df.apply(\n",
        "    lambda x: user_profile_df[user_profile_df.userId == x.userId].workout_freq.values[0], axis=1)\n",
        "\n",
        "elapsed = format_time(time.time() - start)\n",
        "print(elapsed)\n",
        "\n",
        "data_df.head(1)"
      ]
    },
    {
      "cell_type": "code",
      "execution_count": 18,
      "metadata": {
        "id": "CoAYKhl_4N2i",
        "vscode": {
          "languageId": "python"
        }
      },
      "outputs": [],
      "source": [
        "# Scale workout_records and workout_freq\n",
        "\n",
        "scaler_dic = {}\n",
        "\n",
        "scaler_workout_records = MinMaxScaler()\n",
        "scaler_workout_freq = MinMaxScaler()\n",
        "\n",
        "scaler_workout_records.fit(data_df.workout_records.to_numpy().reshape(-1, 1))\n",
        "scaler_workout_freq.fit(data_df.workout_freq.to_numpy().reshape(-1, 1))\n",
        "\n",
        "data_df['workout_records'] = scaler_workout_records.transform(\n",
        "    data_df.workout_records.to_numpy().reshape(-1, 1)).reshape(1, -1)[0]\n",
        "data_df['workout_freq'] = scaler_workout_freq.transform(\n",
        "    data_df.workout_freq.to_numpy().reshape(-1, 1)).reshape(1, -1)[0]"
      ]
    },
    {
      "cell_type": "code",
      "execution_count": 19,
      "metadata": {
        "colab": {
          "base_uri": "https://localhost:8080/"
        },
        "id": "II-yGmFG73y_",
        "outputId": "1bf5f416-a7a9-404d-fbd8-95b6d60f5351",
        "vscode": {
          "languageId": "python"
        }
      },
      "outputs": [
        {
          "name": "stdout",
          "output_type": "stream",
          "text": [
            "0:00:14\n"
          ]
        }
      ],
      "source": [
        "# Compute some parameters from sequence data\n",
        "\n",
        "start = time.time()\n",
        "\n",
        "data_df['min_altitude'] = data_df.apply(lambda x: np.amin(x.altitude), axis=1)\n",
        "data_df['avg_altitude'] = data_df.apply(lambda x: x.altitude.mean(), axis=1)\n",
        "data_df['max_altitude'] = data_df.apply(lambda x: np.amax(x.altitude), axis=1)\n",
        "\n",
        "data_df['min_heart_rate'] = data_df.apply(\n",
        "    lambda x: np.amin(x.heart_rate), axis=1)\n",
        "data_df['avg_heart_rate'] = data_df.apply(\n",
        "    lambda x: x.heart_rate.mean(), axis=1)\n",
        "data_df['max_heart_rate'] = data_df.apply(\n",
        "    lambda x: np.amax(x.heart_rate), axis=1)\n",
        "\n",
        "data_df['min_distance'] = data_df.apply(\n",
        "    lambda x: np.amin(x.derived_distance), axis=1)\n",
        "data_df['avg_distance'] = data_df.apply(\n",
        "    lambda x: x.derived_distance.mean(), axis=1)\n",
        "data_df['max_distance'] = data_df.apply(\n",
        "    lambda x: np.amax(x.derived_distance), axis=1)\n",
        "\n",
        "data_df['min_speed'] = data_df.apply(lambda x: np.amin(x.speed), axis=1)\n",
        "data_df['avg_speed'] = data_df.apply(lambda x: x.speed.mean(), axis=1)\n",
        "data_df['max_speed'] = data_df.apply(lambda x: np.amax(x.speed), axis=1)\n",
        "\n",
        "elapsed = format_time(time.time() - start)\n",
        "print(elapsed)"
      ]
    },
    {
      "cell_type": "code",
      "execution_count": 20,
      "metadata": {
        "colab": {
          "base_uri": "https://localhost:8080/",
          "height": 77
        },
        "id": "BZogm91-FFuu",
        "outputId": "6c11e1aa-150f-4c4d-ac8f-ea81c5f743c9",
        "vscode": {
          "languageId": "python"
        }
      },
      "outputs": [
        {
          "data": {
            "text/html": [
              "<div>\n",
              "<style scoped>\n",
              "    .dataframe tbody tr th:only-of-type {\n",
              "        vertical-align: middle;\n",
              "    }\n",
              "\n",
              "    .dataframe tbody tr th {\n",
              "        vertical-align: top;\n",
              "    }\n",
              "\n",
              "    .dataframe thead th {\n",
              "        text-align: right;\n",
              "    }\n",
              "</style>\n",
              "<table border=\"1\" class=\"dataframe\">\n",
              "  <thead>\n",
              "    <tr style=\"text-align: right;\">\n",
              "      <th></th>\n",
              "      <th>Route_id</th>\n",
              "      <th>sport</th>\n",
              "      <th>avg_calories</th>\n",
              "      <th>avg_speed</th>\n",
              "      <th>avg_distance</th>\n",
              "    </tr>\n",
              "  </thead>\n",
              "  <tbody>\n",
              "    <tr>\n",
              "      <th>0</th>\n",
              "      <td>9</td>\n",
              "      <td>run</td>\n",
              "      <td>0.180111</td>\n",
              "      <td>0.108633</td>\n",
              "      <td>0.015417</td>\n",
              "    </tr>\n",
              "  </tbody>\n",
              "</table>\n",
              "</div>"
            ],
            "text/plain": [
              "   Route_id sport  avg_calories  avg_speed  avg_distance\n",
              "0         9   run      0.180111   0.108633      0.015417"
            ]
          },
          "execution_count": 20,
          "metadata": {
            "tags": []
          },
          "output_type": "execute_result"
        }
      ],
      "source": [
        "# Construct route profile, which will be used in embedding visualisation\n",
        "\n",
        "route_list = data_df.Route_id.unique()\n",
        "route_profile_list = []\n",
        "\n",
        "for route in route_list:\n",
        "    tmp_df = data_df[data_df.Route_id == route].copy()\n",
        "    avg_distance_route = tmp_df.avg_distance.mean()\n",
        "    avg_speed_route = tmp_df.avg_speed.mean()\n",
        "    avg_calories_route = tmp_df.calories.mean()\n",
        "    sport = tmp_df.sport.iloc[0]\n",
        "\n",
        "    route_arr = np.array([route,\n",
        "                          sport,\n",
        "                          avg_calories_route,\n",
        "                          avg_speed_route,\n",
        "                          avg_distance_route])\n",
        "\n",
        "    route_profile_list.append(route_arr)\n",
        "\n",
        "route_profile_df = pd.DataFrame(route_profile_list, columns=['Route_id',\n",
        "                                                             'sport',\n",
        "                                                             'avg_calories',\n",
        "                                                             'avg_speed',\n",
        "                                                             'avg_distance'])\n",
        "\n",
        "route_profile_df['Route_id'] = route_profile_df['Route_id'].astype(int)\n",
        "route_profile_df[['avg_calories', 'avg_speed', 'avg_distance']] = route_profile_df[[\n",
        "    'avg_calories', 'avg_speed', 'avg_distance']].apply(pd.to_numeric)\n",
        "route_profile_df.head(1)"
      ]
    },
    {
      "cell_type": "code",
      "execution_count": 21,
      "metadata": {
        "id": "5yA_33lXSZlA",
        "vscode": {
          "languageId": "python"
        }
      },
      "outputs": [],
      "source": [
        "# Encode gender feature\n",
        "\n",
        "conditions = [\n",
        "    (data_df['gender'] == 'male'),\n",
        "    (data_df['gender'] == 'female'),\n",
        "    (data_df['gender'] == 'unknown')]\n",
        "\n",
        "choices = [0, 1, 2]\n",
        "\n",
        "data_df['genderId'] = np.select(conditions, choices, default=0)"
      ]
    },
    {
      "cell_type": "code",
      "execution_count": 22,
      "metadata": {
        "id": "5AZ1lhjqKpc6",
        "vscode": {
          "languageId": "python"
        }
      },
      "outputs": [],
      "source": [
        "# Encode sport feature\n",
        "\n",
        "conditions = [\n",
        "    (data_df['sport'] == 'run'),\n",
        "    (data_df['sport'] == 'bike'),\n",
        "    (data_df['sport'] == 'mountain bike')]\n",
        "\n",
        "choices = [0, 1, 2]\n",
        "\n",
        "data_df['sportId'] = np.select(conditions, choices, default=0)"
      ]
    },
    {
      "cell_type": "code",
      "execution_count": 23,
      "metadata": {
        "colab": {
          "base_uri": "https://localhost:8080/",
          "height": 147
        },
        "id": "25joakgEErS2",
        "outputId": "d1b3fcc7-4b48-4f4f-81c0-f04e692c9929",
        "vscode": {
          "languageId": "python"
        }
      },
      "outputs": [
        {
          "data": {
            "text/html": [
              "<div>\n",
              "<style scoped>\n",
              "    .dataframe tbody tr th:only-of-type {\n",
              "        vertical-align: middle;\n",
              "    }\n",
              "\n",
              "    .dataframe tbody tr th {\n",
              "        vertical-align: top;\n",
              "    }\n",
              "\n",
              "    .dataframe thead th {\n",
              "        text-align: right;\n",
              "    }\n",
              "</style>\n",
              "<table border=\"1\" class=\"dataframe\">\n",
              "  <thead>\n",
              "    <tr style=\"text-align: right;\">\n",
              "      <th></th>\n",
              "      <th>userId</th>\n",
              "      <th>gender</th>\n",
              "      <th>sport</th>\n",
              "      <th>duration</th>\n",
              "      <th>calories</th>\n",
              "      <th>distance</th>\n",
              "      <th>Route_id</th>\n",
              "      <th>altitude</th>\n",
              "      <th>heart_rate</th>\n",
              "      <th>derived_distance</th>\n",
              "      <th>speed</th>\n",
              "      <th>timestamp</th>\n",
              "      <th>workout_records</th>\n",
              "      <th>workout_freq</th>\n",
              "      <th>min_altitude</th>\n",
              "      <th>avg_altitude</th>\n",
              "      <th>max_altitude</th>\n",
              "      <th>min_heart_rate</th>\n",
              "      <th>avg_heart_rate</th>\n",
              "      <th>max_heart_rate</th>\n",
              "      <th>min_distance</th>\n",
              "      <th>avg_distance</th>\n",
              "      <th>max_distance</th>\n",
              "      <th>min_speed</th>\n",
              "      <th>avg_speed</th>\n",
              "      <th>max_speed</th>\n",
              "      <th>genderId</th>\n",
              "      <th>sportId</th>\n",
              "    </tr>\n",
              "  </thead>\n",
              "  <tbody>\n",
              "    <tr>\n",
              "      <th>0</th>\n",
              "      <td>2568526</td>\n",
              "      <td>male</td>\n",
              "      <td>run</td>\n",
              "      <td>0.176939</td>\n",
              "      <td>0.149145</td>\n",
              "      <td>0.07643</td>\n",
              "      <td>9</td>\n",
              "      <td>[0.21051532033426185, 0.21051532033426185, 0.2...</td>\n",
              "      <td>[0.5833333333333334, 0.5833333333333334, 0.587...</td>\n",
              "      <td>[0.0008705472935918672, 0.006835760322515244, ...</td>\n",
              "      <td>[0.05777888189652973, 0.10005540659781222, 0.1...</td>\n",
              "      <td>[1443653973.0, 1443653974.0, 1443653978.0, 144...</td>\n",
              "      <td>0.270531</td>\n",
              "      <td>0.333499</td>\n",
              "      <td>0.188997</td>\n",
              "      <td>0.193092</td>\n",
              "      <td>0.211072</td>\n",
              "      <td>0.316667</td>\n",
              "      <td>0.645316</td>\n",
              "      <td>0.783333</td>\n",
              "      <td>0.000871</td>\n",
              "      <td>0.01089</td>\n",
              "      <td>0.024076</td>\n",
              "      <td>0.057779</td>\n",
              "      <td>0.115745</td>\n",
              "      <td>0.156878</td>\n",
              "      <td>0</td>\n",
              "      <td>0</td>\n",
              "    </tr>\n",
              "  </tbody>\n",
              "</table>\n",
              "</div>"
            ],
            "text/plain": [
              "    userId gender sport  duration  ...  avg_speed  max_speed  genderId sportId\n",
              "0  2568526   male   run  0.176939  ...   0.115745   0.156878         0       0\n",
              "\n",
              "[1 rows x 28 columns]"
            ]
          },
          "execution_count": 23,
          "metadata": {
            "tags": []
          },
          "output_type": "execute_result"
        }
      ],
      "source": [
        "data_df.head(1)"
      ]
    },
    {
      "cell_type": "code",
      "execution_count": null,
      "metadata": {
        "id": "Mou1oTbF0Efa",
        "vscode": {
          "languageId": "python"
        }
      },
      "outputs": [],
      "source": []
    }
  ],
  "metadata": {
    "colab": {
      "collapsed_sections": [
        "cKpUJCfSfoKY",
        "SrxDs0zCf0DT",
        "bjVLdsmif5JB",
        "soJV2ms-KSW5",
        "ggN2gyGtgJJM",
        "Qxo2Ce9hgjHH",
        "R5R6f1lpx4Ls",
        "RMCYFs6ayGb7",
        "gAX-aCyQ5X1_",
        "2rRvl22T5RzS",
        "NIrXY2LT9lrI"
      ],
      "name": "Rev 3 - User Embedding Tensor Decomposition.ipynb",
      "provenance": []
    },
    "kernelspec": {
      "display_name": "Python 3",
      "name": "python3"
    }
  },
  "nbformat": 4,
  "nbformat_minor": 0
}
